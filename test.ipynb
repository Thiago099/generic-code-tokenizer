{
 "cells": [
  {
   "cell_type": "code",
   "execution_count": 1,
   "metadata": {},
   "outputs": [
    {
     "name": "stdout",
     "output_type": "stream",
     "text": [
      "if ( ['operation', '>', [['word', 'a'], ['number', '10']]]\n"
     ]
    },
    {
     "ename": "ValueError",
     "evalue": "too many values to unpack (expected 2)",
     "output_type": "error",
     "traceback": [
      "\u001b[1;31m---------------------------------------------------------------------------\u001b[0m",
      "\u001b[1;31mValueError\u001b[0m                                Traceback (most recent call last)",
      "\u001b[1;32mc:\\Users\\Thiago\\Documents\\generic-code-tokenizer\\test.ipynb Cell 1'\u001b[0m in \u001b[0;36m<cell line: 48>\u001b[1;34m()\u001b[0m\n\u001b[0;32m     <a href='vscode-notebook-cell:/c%3A/Users/Thiago/Documents/generic-code-tokenizer/test.ipynb#ch0000000?line=44'>45</a>\u001b[0m     \u001b[39melif\u001b[39;00m unknown[\u001b[39m0\u001b[39m] \u001b[39m==\u001b[39m \u001b[39m'\u001b[39m\u001b[39massign\u001b[39m\u001b[39m'\u001b[39m:\n\u001b[0;32m     <a href='vscode-notebook-cell:/c%3A/Users/Thiago/Documents/generic-code-tokenizer/test.ipynb#ch0000000?line=45'>46</a>\u001b[0m         parse_assignment(unknown)\n\u001b[1;32m---> <a href='vscode-notebook-cell:/c%3A/Users/Thiago/Documents/generic-code-tokenizer/test.ipynb#ch0000000?line=47'>48</a>\u001b[0m parse_unknown(parsed)\n",
      "\u001b[1;32mc:\\Users\\Thiago\\Documents\\generic-code-tokenizer\\test.ipynb Cell 1'\u001b[0m in \u001b[0;36mparse_unknown\u001b[1;34m(unknown)\u001b[0m\n\u001b[0;32m     <a href='vscode-notebook-cell:/c%3A/Users/Thiago/Documents/generic-code-tokenizer/test.ipynb#ch0000000?line=37'>38</a>\u001b[0m \u001b[39mdef\u001b[39;00m \u001b[39mparse_unknown\u001b[39m(unknown):\n\u001b[0;32m     <a href='vscode-notebook-cell:/c%3A/Users/Thiago/Documents/generic-code-tokenizer/test.ipynb#ch0000000?line=38'>39</a>\u001b[0m     \u001b[39mif\u001b[39;00m unknown[\u001b[39m0\u001b[39m] \u001b[39min\u001b[39;00m [\u001b[39m'\u001b[39m\u001b[39mif\u001b[39m\u001b[39m'\u001b[39m,\u001b[39m'\u001b[39m\u001b[39mfor\u001b[39m\u001b[39m'\u001b[39m,\u001b[39m'\u001b[39m\u001b[39mwhile\u001b[39m\u001b[39m'\u001b[39m,\u001b[39m'\u001b[39m\u001b[39mforeach\u001b[39m\u001b[39m'\u001b[39m]:\n\u001b[1;32m---> <a href='vscode-notebook-cell:/c%3A/Users/Thiago/Documents/generic-code-tokenizer/test.ipynb#ch0000000?line=39'>40</a>\u001b[0m         parse_block(unknown)\n\u001b[0;32m     <a href='vscode-notebook-cell:/c%3A/Users/Thiago/Documents/generic-code-tokenizer/test.ipynb#ch0000000?line=40'>41</a>\u001b[0m     \u001b[39melif\u001b[39;00m unknown[\u001b[39m0\u001b[39m] \u001b[39m==\u001b[39m \u001b[39m'\u001b[39m\u001b[39moperation\u001b[39m\u001b[39m'\u001b[39m:\n\u001b[0;32m     <a href='vscode-notebook-cell:/c%3A/Users/Thiago/Documents/generic-code-tokenizer/test.ipynb#ch0000000?line=41'>42</a>\u001b[0m         parse_operation(unknown)\n",
      "\u001b[1;32mc:\\Users\\Thiago\\Documents\\generic-code-tokenizer\\test.ipynb Cell 1'\u001b[0m in \u001b[0;36mparse_block\u001b[1;34m(value)\u001b[0m\n\u001b[0;32m     <a href='vscode-notebook-cell:/c%3A/Users/Thiago/Documents/generic-code-tokenizer/test.ipynb#ch0000000?line=22'>23</a>\u001b[0m \u001b[39mprint\u001b[39m(operation, end\u001b[39m=\u001b[39m\u001b[39m'\u001b[39m\u001b[39m \u001b[39m\u001b[39m'\u001b[39m)\n\u001b[0;32m     <a href='vscode-notebook-cell:/c%3A/Users/Thiago/Documents/generic-code-tokenizer/test.ipynb#ch0000000?line=23'>24</a>\u001b[0m \u001b[39mprint\u001b[39m(\u001b[39m'\u001b[39m\u001b[39m(\u001b[39m\u001b[39m'\u001b[39m, end\u001b[39m=\u001b[39m\u001b[39m'\u001b[39m\u001b[39m \u001b[39m\u001b[39m'\u001b[39m)\n\u001b[1;32m---> <a href='vscode-notebook-cell:/c%3A/Users/Thiago/Documents/generic-code-tokenizer/test.ipynb#ch0000000?line=24'>25</a>\u001b[0m parse_unknown(conditon)\n\u001b[0;32m     <a href='vscode-notebook-cell:/c%3A/Users/Thiago/Documents/generic-code-tokenizer/test.ipynb#ch0000000?line=25'>26</a>\u001b[0m \u001b[39mprint\u001b[39m(\u001b[39m'\u001b[39m\u001b[39m)\u001b[39m\u001b[39m'\u001b[39m, end\u001b[39m=\u001b[39m\u001b[39m'\u001b[39m\u001b[39m \u001b[39m\u001b[39m'\u001b[39m)\n\u001b[0;32m     <a href='vscode-notebook-cell:/c%3A/Users/Thiago/Documents/generic-code-tokenizer/test.ipynb#ch0000000?line=26'>27</a>\u001b[0m \u001b[39mprint\u001b[39m(\u001b[39m'\u001b[39m\u001b[39m{\u001b[39m\u001b[39m'\u001b[39m, end\u001b[39m=\u001b[39m\u001b[39m'\u001b[39m\u001b[39m \u001b[39m\u001b[39m'\u001b[39m)\n",
      "\u001b[1;32mc:\\Users\\Thiago\\Documents\\generic-code-tokenizer\\test.ipynb Cell 1'\u001b[0m in \u001b[0;36mparse_unknown\u001b[1;34m(unknown)\u001b[0m\n\u001b[0;32m     <a href='vscode-notebook-cell:/c%3A/Users/Thiago/Documents/generic-code-tokenizer/test.ipynb#ch0000000?line=39'>40</a>\u001b[0m     parse_block(unknown)\n\u001b[0;32m     <a href='vscode-notebook-cell:/c%3A/Users/Thiago/Documents/generic-code-tokenizer/test.ipynb#ch0000000?line=40'>41</a>\u001b[0m \u001b[39melif\u001b[39;00m unknown[\u001b[39m0\u001b[39m] \u001b[39m==\u001b[39m \u001b[39m'\u001b[39m\u001b[39moperation\u001b[39m\u001b[39m'\u001b[39m:\n\u001b[1;32m---> <a href='vscode-notebook-cell:/c%3A/Users/Thiago/Documents/generic-code-tokenizer/test.ipynb#ch0000000?line=41'>42</a>\u001b[0m     parse_operation(unknown)\n\u001b[0;32m     <a href='vscode-notebook-cell:/c%3A/Users/Thiago/Documents/generic-code-tokenizer/test.ipynb#ch0000000?line=42'>43</a>\u001b[0m \u001b[39melif\u001b[39;00m unknown[\u001b[39m0\u001b[39m] \u001b[39min\u001b[39;00m [\u001b[39m'\u001b[39m\u001b[39mnumber\u001b[39m\u001b[39m'\u001b[39m, \u001b[39m'\u001b[39m\u001b[39mword\u001b[39m\u001b[39m'\u001b[39m]:\n\u001b[0;32m     <a href='vscode-notebook-cell:/c%3A/Users/Thiago/Documents/generic-code-tokenizer/test.ipynb#ch0000000?line=43'>44</a>\u001b[0m     \u001b[39mprint\u001b[39m(unknown[\u001b[39m1\u001b[39m], end\u001b[39m=\u001b[39m\u001b[39m'\u001b[39m\u001b[39m \u001b[39m\u001b[39m'\u001b[39m)\n",
      "\u001b[1;32mc:\\Users\\Thiago\\Documents\\generic-code-tokenizer\\test.ipynb Cell 1'\u001b[0m in \u001b[0;36mparse_operation\u001b[1;34m(value)\u001b[0m\n\u001b[0;32m     <a href='vscode-notebook-cell:/c%3A/Users/Thiago/Documents/generic-code-tokenizer/test.ipynb#ch0000000?line=12'>13</a>\u001b[0m \u001b[39mdef\u001b[39;00m \u001b[39mparse_operation\u001b[39m(value):\n\u001b[0;32m     <a href='vscode-notebook-cell:/c%3A/Users/Thiago/Documents/generic-code-tokenizer/test.ipynb#ch0000000?line=13'>14</a>\u001b[0m     \u001b[39mprint\u001b[39m(value)\n\u001b[1;32m---> <a href='vscode-notebook-cell:/c%3A/Users/Thiago/Documents/generic-code-tokenizer/test.ipynb#ch0000000?line=14'>15</a>\u001b[0m     operation, subject \u001b[39m=\u001b[39m value[:]\n\u001b[0;32m     <a href='vscode-notebook-cell:/c%3A/Users/Thiago/Documents/generic-code-tokenizer/test.ipynb#ch0000000?line=15'>16</a>\u001b[0m     parse_unknown(subject[\u001b[39m0\u001b[39m])\n\u001b[0;32m     <a href='vscode-notebook-cell:/c%3A/Users/Thiago/Documents/generic-code-tokenizer/test.ipynb#ch0000000?line=16'>17</a>\u001b[0m     \u001b[39mprint\u001b[39m(operation,end\u001b[39m=\u001b[39m\u001b[39m'\u001b[39m\u001b[39m \u001b[39m\u001b[39m'\u001b[39m)\n",
      "\u001b[1;31mValueError\u001b[0m: too many values to unpack (expected 2)"
     ]
    }
   ],
   "source": [
    "from code_tokenizer import *\n",
    "\n",
    "code = \"\"\"\n",
    "if(a > 10)\n",
    "{\n",
    "    a = 10\n",
    "}\n",
    "\"\"\"\n",
    "\n",
    "# print(color_by_char_type(code))\n",
    "parsed = parse(code)\n",
    "\n",
    "def parse_operation(value):\n",
    "    operation, subject = value[1:]\n",
    "    parse_unknown(subject[0])\n",
    "    print(operation,end=' ')\n",
    "    parse_unknown(subject[1])\n",
    "\n",
    "def parse_block(value):\n",
    "    operation = value[0]\n",
    "    conditon, block = value[1]\n",
    "    print(operation, end=' ')\n",
    "    print('(', end=' ')\n",
    "    parse_unknown(conditon)\n",
    "    print(')', end=' ')\n",
    "    print('{', end=' ')\n",
    "    parse_unknown(block)\n",
    "    print('}', end=' ')\n",
    "\n",
    "def parse_assignment(assignment):\n",
    "    variable, value = assignment[1]\n",
    "    parse_unknown(variable)\n",
    "    print('=', end=' ')\n",
    "    parse_unknown(value)\n",
    "\n",
    "\n",
    "def parse_unknown(unknown):\n",
    "    if unknown[0] in ['if','for','while','foreach']:\n",
    "        parse_block(unknown)\n",
    "    elif unknown[0] == 'operation':\n",
    "        parse_operation(unknown)\n",
    "    elif unknown[0] in ['number', 'word']:\n",
    "        print(unknown[1], end=' ')\n",
    "    elif unknown[0] == 'assign':\n",
    "        parse_assignment(unknown)\n",
    "\n",
    "parse_unknown(parsed)"
   ]
  }
 ],
 "metadata": {
  "kernelspec": {
   "display_name": "Python 3.10.5 64-bit (windows store)",
   "language": "python",
   "name": "python3"
  },
  "language_info": {
   "codemirror_mode": {
    "name": "ipython",
    "version": 3
   },
   "file_extension": ".py",
   "mimetype": "text/x-python",
   "name": "python",
   "nbconvert_exporter": "python",
   "pygments_lexer": "ipython3",
   "version": "3.10.5"
  },
  "orig_nbformat": 4,
  "vscode": {
   "interpreter": {
    "hash": "131380195fafccd30ff0bc86cc585b2763f386cd5296bd3c2eff353ed7523022"
   }
  }
 },
 "nbformat": 4,
 "nbformat_minor": 2
}
