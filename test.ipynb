{
 "cells": [
  {
   "cell_type": "code",
   "execution_count": 4,
   "metadata": {},
   "outputs": [
    {
     "name": "stdout",
     "output_type": "stream",
     "text": [
      "\u001b[93m\n",
      "\u001b[0m\u001b[96mmy\u001b[0m\u001b[95m_\u001b[0m\u001b[96mlist\u001b[0m\u001b[93m \u001b[0m\u001b[95m=\u001b[0m\u001b[93m \u001b[0m\u001b[95m[\u001b[0m\u001b[94m1\u001b[0m\u001b[95m,\u001b[0m\u001b[93m \u001b[0m\u001b[94m2\u001b[0m\u001b[95m]\u001b[0m\u001b[93m\n",
      "\u001b[0m\u001b[96mmin\u001b[0m\u001b[93m \u001b[0m\u001b[95m=\u001b[0m\u001b[93m \u001b[0m\u001b[96mmy\u001b[0m\u001b[95m_\u001b[0m\u001b[96mlist\u001b[0m\u001b[95m[\u001b[0m\u001b[94m0\u001b[0m\u001b[95m]\u001b[0m\u001b[93m\n",
      "\u001b[0m\u001b[96mfor\u001b[0m\u001b[95m(\u001b[0m\u001b[96mi\u001b[0m\u001b[93m \u001b[0m\u001b[95m=\u001b[0m\u001b[93m \u001b[0m\u001b[94m1\u001b[0m\u001b[95m;\u001b[0m\u001b[93m \u001b[0m\u001b[96mi\u001b[0m\u001b[93m \u001b[0m\u001b[95m<\u001b[0m\u001b[93m \u001b[0m\u001b[96mmy\u001b[0m\u001b[95m_\u001b[0m\u001b[96mlist\u001b[0m\u001b[95m.\u001b[0m\u001b[96mlength\u001b[0m\u001b[95m;\u001b[0m\u001b[93m \u001b[0m\u001b[96mi\u001b[0m\u001b[95m++)\u001b[0m\u001b[93m \u001b[0m\u001b[95m{\u001b[0m\u001b[93m\n",
      "    \u001b[0m\u001b[96mif\u001b[0m\u001b[95m(\u001b[0m\u001b[96mmy\u001b[0m\u001b[95m_\u001b[0m\u001b[96mlist\u001b[0m\u001b[95m[\u001b[0m\u001b[96mi\u001b[0m\u001b[95m]\u001b[0m\u001b[93m \u001b[0m\u001b[95m<\u001b[0m\u001b[93m \u001b[0m\u001b[96mmin\u001b[0m\u001b[95m)\u001b[0m\u001b[93m \u001b[0m\u001b[95m{\u001b[0m\u001b[93m\n",
      "        \u001b[0m\u001b[96mmin\u001b[0m\u001b[93m \u001b[0m\u001b[95m=\u001b[0m\u001b[93m \u001b[0m\u001b[96mmy\u001b[0m\u001b[95m_\u001b[0m\u001b[96mlist\u001b[0m\u001b[95m[\u001b[0m\u001b[96mi\u001b[0m\u001b[95m]\u001b[0m\u001b[93m\n",
      "    \u001b[0m\u001b[95m}\u001b[0m\u001b[93m\n",
      "\u001b[0m\u001b[95m}\u001b[0m\u001b[93m\n",
      "\u001b[0m\u001b[96mconsole\u001b[0m\u001b[95m.\u001b[0m\u001b[96mlog\u001b[0m\u001b[95m(\u001b[0m\u001b[96mmin\u001b[0m\u001b[95m)\u001b[0m\u001b[93m\n",
      "\u001b[0m\n",
      "[['assignment', [['word', 'my_list'], [['array_define', [['number', '1'], ['number', '2']]]]]]]\n",
      "[['assignment', [['word', 'min'], [['word', 'my_list', ['array_call', ['number', '0']]]]]]]\n",
      "['word', 'for', ['attached_group', [[['assignment', [['word', 'i'], [['number', '1']]]]], [['word', 'i'], ['acess_group', [['word', 'my_list'], ['word', 'length']]], ['symbol', '<']], [['increment', ['word', 'i']]]]], ['attached_block', ['word', 'if', ['attached_group', [['word', 'my_list', ['array_call', ['word', 'i']]], ['word', 'min'], ['symbol', '<']]], ['attached_block', [['assignment', [['word', 'min'], [['word', 'my_list', ['array_call', ['word', 'i']]]]]]]]]]]\n",
      "[['acess_group', [['word', 'console'], ['word', 'log', ['attached_group', ['word', 'min']]]]]]\n"
     ]
    }
   ],
   "source": [
    "from code_tokenizer import *\n",
    "\n",
    "code = \"\"\"\n",
    "posicao.Trigger == \"DEACTIVATION\" || posicao.Trigger == \"POWER_LOSS\"\n",
    "\"\"\"\n",
    "\n",
    "code = \"\"\"\n",
    "my_list = [1, 2]\n",
    "min = my_list[0]\n",
    "for(i = 1; i < my_list.length; i++) {\n",
    "    if(my_list[i] < min) {\n",
    "        min = my_list[i]\n",
    "    }\n",
    "}\n",
    "console.log(min)\n",
    "\"\"\"\n",
    "\n",
    "print(color_by_char_type(code))\n",
    "\n",
    "\n",
    "for i in math_layer(code):\n",
    "    print(i)"
   ]
  }
 ],
 "metadata": {
  "kernelspec": {
   "display_name": "Python 3.10.4 64-bit",
   "language": "python",
   "name": "python3"
  },
  "language_info": {
   "codemirror_mode": {
    "name": "ipython",
    "version": 3
   },
   "file_extension": ".py",
   "mimetype": "text/x-python",
   "name": "python",
   "nbconvert_exporter": "python",
   "pygments_lexer": "ipython3",
   "version": "3.10.4"
  },
  "orig_nbformat": 4,
  "vscode": {
   "interpreter": {
    "hash": "916dbcbb3f70747c44a77c7bcd40155683ae19c65e1c03b4aa3499c5328201f1"
   }
  }
 },
 "nbformat": 4,
 "nbformat_minor": 2
}
