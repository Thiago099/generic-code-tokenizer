{
 "cells": [
  {
   "cell_type": "code",
   "execution_count": 1,
   "metadata": {},
   "outputs": [
    {
     "name": "stdout",
     "output_type": "stream",
     "text": [
      "\u001b[93m\n",
      "\u001b[0m\u001b[96mjson\u001b[0m\u001b[93m \u001b[0m\u001b[95m=\u001b[0m\u001b[93m \u001b[0m\u001b[95m{\u001b[0m\u001b[93m\n",
      "    \u001b[0m\u001b[95m\"\u001b[0m\u001b[96mcity\u001b[0m\u001b[95m\":\u001b[0m\u001b[93m \u001b[0m\u001b[95m\"\u001b[0m\u001b[92mN\u001b[0m\u001b[96mew\u001b[0m\u001b[93m \u001b[0m\u001b[92mY\u001b[0m\u001b[96mork\u001b[0m\u001b[95m\"\u001b[0m\u001b[93m\n",
      "    \u001b[0m\u001b[95m\"\u001b[0m\u001b[96mname\u001b[0m\u001b[95m\":\u001b[0m\u001b[93m \u001b[0m\u001b[95m\"\u001b[0m\u001b[92mJ\u001b[0m\u001b[96mohn\u001b[0m\u001b[95m\",\u001b[0m\u001b[93m\n",
      "    \u001b[0m\u001b[95m\"\u001b[0m\u001b[96mage\u001b[0m\u001b[95m\":\u001b[0m\u001b[93m \u001b[0m\u001b[94m30\u001b[0m\u001b[95m,\u001b[0m\u001b[93m\n",
      "\u001b[0m\u001b[95m}\u001b[0m\u001b[93m\n",
      "\u001b[0m\u001b[96mmy\u001b[0m\u001b[95m_\u001b[0m\u001b[96mlist\u001b[0m\u001b[93m \u001b[0m\u001b[95m=\u001b[0m\u001b[93m \u001b[0m\u001b[95m[\u001b[0m\u001b[94m1\u001b[0m\u001b[95m,\u001b[0m\u001b[93m \u001b[0m\u001b[94m2\u001b[0m\u001b[95m,\u001b[0m\u001b[93m \u001b[0m\u001b[94m3\u001b[0m\u001b[95m,\u001b[0m\u001b[93m \u001b[0m\u001b[94m4\u001b[0m\u001b[95m,\u001b[0m\u001b[93m \u001b[0m\u001b[94m5\u001b[0m\u001b[95m]\u001b[0m\u001b[93m\n",
      "\u001b[0m\u001b[96mmin\u001b[0m\u001b[93m \u001b[0m\u001b[95m=\u001b[0m\u001b[93m \u001b[0m\u001b[96mmy\u001b[0m\u001b[95m_\u001b[0m\u001b[96mlist\u001b[0m\u001b[95m[\u001b[0m\u001b[94m0\u001b[0m\u001b[95m]\u001b[0m\u001b[93m\n",
      "\u001b[0m\u001b[96mfor\u001b[0m\u001b[95m(\u001b[0m\u001b[96mi\u001b[0m\u001b[93m \u001b[0m\u001b[95m=\u001b[0m\u001b[93m \u001b[0m\u001b[94m1\u001b[0m\u001b[95m;\u001b[0m\u001b[93m \u001b[0m\u001b[96mi\u001b[0m\u001b[93m \u001b[0m\u001b[95m<\u001b[0m\u001b[93m \u001b[0m\u001b[96mmy\u001b[0m\u001b[95m_\u001b[0m\u001b[96mlist\u001b[0m\u001b[95m.\u001b[0m\u001b[96mlength\u001b[0m\u001b[95m;\u001b[0m\u001b[93m \u001b[0m\u001b[96mi\u001b[0m\u001b[95m++)\u001b[0m\u001b[93m \u001b[0m\u001b[95m{\u001b[0m\u001b[93m\n",
      "    \u001b[0m\u001b[96mif\u001b[0m\u001b[95m(\u001b[0m\u001b[96mmy\u001b[0m\u001b[95m_\u001b[0m\u001b[96mlist\u001b[0m\u001b[95m[\u001b[0m\u001b[96mi\u001b[0m\u001b[95m]\u001b[0m\u001b[93m \u001b[0m\u001b[95m<\u001b[0m\u001b[93m \u001b[0m\u001b[96mmin\u001b[0m\u001b[95m)\u001b[0m\u001b[93m \u001b[0m\u001b[95m{\u001b[0m\u001b[93m\n",
      "        \u001b[0m\u001b[96mmin\u001b[0m\u001b[93m \u001b[0m\u001b[95m=\u001b[0m\u001b[93m \u001b[0m\u001b[96mmy\u001b[0m\u001b[95m_\u001b[0m\u001b[96mlist\u001b[0m\u001b[95m[\u001b[0m\u001b[96mi\u001b[0m\u001b[95m]\u001b[0m\u001b[93m\n",
      "    \u001b[0m\u001b[95m}\u001b[0m\u001b[93m\n",
      "\u001b[0m\u001b[95m}\u001b[0m\u001b[93m\n",
      "\u001b[0m\u001b[96mconsole\u001b[0m\u001b[95m.\u001b[0m\u001b[96mlog\u001b[0m\u001b[95m(\u001b[0m\u001b[96mmin\u001b[0m\u001b[95m)\u001b[0m\u001b[93m\n",
      "\u001b[0m\n",
      "[['word', 'json'], ['symbol', '='], ['{', [['\"', [['word', 'city']]], ['symbol', ':'], ['\"', [['word', 'New'], ['word', 'York']]], ['\"', [['word', 'name']]], ['symbol', ':'], ['\"', [['word', 'John']]], ['symbol', ','], ['\"', [['word', 'age']]], ['symbol', ':'], ['number', '30'], ['symbol', ',']]], ['word', 'my_list'], ['symbol', '='], ['[', [['number', '1'], ['symbol', ','], ['number', '2'], ['symbol', ','], ['number', '3'], ['symbol', ','], ['number', '4'], ['symbol', ','], ['number', '5']]], ['word', 'min'], ['symbol', '='], ['word', 'my_list'], ['[', [['number', '0']]], ['word', 'for'], ['(', [['word', 'i'], ['symbol', '='], ['number', '1'], ['symbol', ';'], ['word', 'i'], ['symbol', '<'], ['word', 'my_list'], ['symbol', '.'], ['word', 'length'], ['symbol', ';'], ['word', 'i'], ['symbol', '++']]], ['{', [['word', 'if'], ['(', [['word', 'my_list'], ['[', [['word', 'i']]], ['symbol', '<'], ['word', 'min']]], ['{', [['word', 'min'], ['symbol', '='], ['word', 'my_list'], ['[', [['word', 'i']]]]]]], ['word', 'console'], ['symbol', '.'], ['word', 'log'], ['(', [['word', 'min']]]]\n"
     ]
    }
   ],
   "source": [
    "from code_tokenizer import *\n",
    "\n",
    "code = \"\"\"\n",
    "json = {\n",
    "    \"city\": \"New York\"\n",
    "    \"name\": \"John\",\n",
    "    \"age\": 30,\n",
    "}\n",
    "my_list = [1, 2, 3, 4, 5]\n",
    "min = my_list[0]\n",
    "for(i = 1; i < my_list.length; i++) {\n",
    "    if(my_list[i] < min) {\n",
    "        min = my_list[i]\n",
    "    }\n",
    "}\n",
    "console.log(min)\n",
    "\"\"\"\n",
    "print(color_by_char_type(code))\n",
    "print(parse(code))"
   ]
  }
 ],
 "metadata": {
  "kernelspec": {
   "display_name": "Python 3.10.2 64-bit",
   "language": "python",
   "name": "python3"
  },
  "language_info": {
   "codemirror_mode": {
    "name": "ipython",
    "version": 3
   },
   "file_extension": ".py",
   "mimetype": "text/x-python",
   "name": "python",
   "nbconvert_exporter": "python",
   "pygments_lexer": "ipython3",
   "version": "3.10.2"
  },
  "orig_nbformat": 4,
  "vscode": {
   "interpreter": {
    "hash": "4d581fef53bcc7b9121b723ffffee9bb3151d28f1d879cf512cef40db48bd410"
   }
  }
 },
 "nbformat": 4,
 "nbformat_minor": 2
}
