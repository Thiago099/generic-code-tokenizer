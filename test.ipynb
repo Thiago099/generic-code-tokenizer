{
 "cells": [
  {
   "cell_type": "code",
   "execution_count": 3,
   "metadata": {},
   "outputs": [
    {
     "name": "stdout",
     "output_type": "stream",
     "text": [
      "\u001b[93m\n",
      "\u001b[0m\u001b[96mmy\u001b[0m\u001b[95m_\u001b[0m\u001b[96mlist\u001b[0m\u001b[93m \u001b[0m\u001b[95m=\u001b[0m\u001b[93m \u001b[0m\u001b[95m[\u001b[0m\u001b[94m1\u001b[0m\u001b[95m,\u001b[0m\u001b[93m \u001b[0m\u001b[94m2\u001b[0m\u001b[95m,\u001b[0m\u001b[93m \u001b[0m\u001b[94m3\u001b[0m\u001b[95m,\u001b[0m\u001b[93m \u001b[0m\u001b[94m4\u001b[0m\u001b[95m,\u001b[0m\u001b[93m \u001b[0m\u001b[94m5\u001b[0m\u001b[95m]\u001b[0m\u001b[93m\n",
      "\u001b[0m\u001b[96mmin\u001b[0m\u001b[93m \u001b[0m\u001b[95m=\u001b[0m\u001b[93m \u001b[0m\u001b[96mmy\u001b[0m\u001b[95m_\u001b[0m\u001b[96mlist\u001b[0m\u001b[95m[\u001b[0m\u001b[94m0\u001b[0m\u001b[95m]\u001b[0m\u001b[93m\n",
      "\u001b[0m\u001b[96mfor\u001b[0m\u001b[95m(\u001b[0m\u001b[96mi\u001b[0m\u001b[93m \u001b[0m\u001b[95m=\u001b[0m\u001b[93m \u001b[0m\u001b[94m1\u001b[0m\u001b[95m;\u001b[0m\u001b[96mi\u001b[0m\u001b[93m \u001b[0m\u001b[95m<\u001b[0m\u001b[93m \u001b[0m\u001b[96mmy\u001b[0m\u001b[95m_\u001b[0m\u001b[96mlist\u001b[0m\u001b[95m.\u001b[0m\u001b[96mlength\u001b[0m\u001b[95m;\u001b[0m\u001b[93m \u001b[0m\u001b[96mi\u001b[0m\u001b[95m++)\u001b[0m\u001b[93m \u001b[0m\u001b[95m{\u001b[0m\u001b[93m\n",
      "    \u001b[0m\u001b[96mif\u001b[0m\u001b[95m(\u001b[0m\u001b[96mmy\u001b[0m\u001b[95m_\u001b[0m\u001b[96mlist\u001b[0m\u001b[95m[\u001b[0m\u001b[96mi\u001b[0m\u001b[95m]\u001b[0m\u001b[93m \u001b[0m\u001b[95m<\u001b[0m\u001b[93m \u001b[0m\u001b[96mmin\u001b[0m\u001b[95m)\u001b[0m\u001b[93m \u001b[0m\u001b[95m{\u001b[0m\u001b[93m\n",
      "        \u001b[0m\u001b[96mmin\u001b[0m\u001b[93m \u001b[0m\u001b[95m=\u001b[0m\u001b[93m \u001b[0m\u001b[96mmy\u001b[0m\u001b[95m_\u001b[0m\u001b[96mlist\u001b[0m\u001b[95m[\u001b[0m\u001b[96mi\u001b[0m\u001b[95m]\u001b[0m\u001b[93m\n",
      "    \u001b[0m\u001b[95m}\u001b[0m\u001b[93m\n",
      "\u001b[0m\u001b[95m}\u001b[0m\u001b[93m\n",
      "\u001b[0m\u001b[96mconsole\u001b[0m\u001b[95m.\u001b[0m\u001b[96mlog\u001b[0m\u001b[95m(\u001b[0m\u001b[96mmin\u001b[0m\u001b[95m)\u001b[0m\u001b[93m\n",
      "\u001b[0m\n",
      "my_list\n",
      "['array', ['number']]\n",
      "['array_define', [['number', '1'], ['number', '2'], ['number', '3'], ['number', '4'], ['number', '5']]]\n",
      "\n",
      "min\n",
      "['number']\n",
      "['word', 'my_list', ['array_call', ['number', '0']]]\n",
      "\n",
      "i\n",
      "['number']\n",
      "['number', '1']\n",
      "\n",
      "min\n",
      "['number']\n",
      "['word', 'my_list', ['array_call', ['word', 'i']]]\n",
      "\n",
      "[[['assign', [['word', 'my_list'], ['array_define', [['number', '1'], ['number', '2'], ['number', '3'], ['number', '4'], ['number', '5']]]]]], [['assign', [['word', 'min'], ['word', 'my_list', ['array_call', ['number', '0']]]]]], ['word', 'for', ['attached_group', [[['assign', [['word', 'i'], ['number', '1']]]], ['operation', '<', [['word', 'i'], ['access_group', [['word', 'my_list'], ['word', 'length']]]]], [['increment', ['word', 'i']]]]], ['attached_block', ['word', 'if', ['attached_group', ['operation', '<', [['word', 'my_list', ['array_call', ['word', 'i']]], ['word', 'min']]]], ['attached_block', [['assign', [['word', 'min'], ['word', 'my_list', ['array_call', ['word', 'i']]]]]]]]]], [['access_group', [['word', 'console'], ['word', 'log', ['attached_group', ['word', 'min']]]]]]]\n"
     ]
    }
   ],
   "source": [
    "from code_tokenizer import *\n",
    "\n",
    "# code = \"\"\"\n",
    "# posicao.Trigger == \"DEACTIVATION\" || posicao.Trigger == \"POWER_LOSS\"\n",
    "# \"\"\"\n",
    "\n",
    "code = \"\"\"\n",
    "my_list = [1, 2, 3, 4, 5]\n",
    "min = my_list[0]\n",
    "for(i = 1;i < my_list.length; i++) {\n",
    "    if(my_list[i] < min) {\n",
    "        min = my_list[i]\n",
    "    }\n",
    "}\n",
    "console.log(min)\n",
    "\"\"\"\n",
    "\n",
    "print(color_by_char_type(code))\n",
    "\n",
    "parsed = math_layer(code)\n",
    "\n",
    "variable_types = {\n",
    "    'number': 'number',\n",
    "    'string': 'string',\n",
    "    'array_define': 'array',\n",
    "    'dictionary_define': 'dictionary',\n",
    "}\n",
    "variables = {}\n",
    "def get_value_type(value):\n",
    "    if(value[0] in variable_types):\n",
    "        var_type = variable_types[value[0]]\n",
    "        if(var_type == 'array'):\n",
    "            return ['array', get_value_type(value[1][0])]\n",
    "        else:\n",
    "            return [var_type]\n",
    "    elif(value[0] == 'word'):\n",
    "        child_type = variables[value[1]]\n",
    "        for index in range(2,len(value)):\n",
    "            if(value[index][0] == 'array_call'):\n",
    "                child_type = child_type[1]\n",
    "        return child_type\n",
    "    else:\n",
    "        return ['unknown']\n",
    "\n",
    "def scan(data):\n",
    "    if(type(data) == list and len(data) > 0):\n",
    "        if(data[0] == 'assign'):\n",
    "            variable_name = data[1][0][1]\n",
    "            variable_value = data[1][1]\n",
    "            variable_type = get_value_type(variable_value)\n",
    "            variables[variable_name] = variable_type\n",
    "            print(variable_name)\n",
    "            print(variable_type)\n",
    "            print(variable_value)\n",
    "            print()\n",
    "            return\n",
    "        for item in data:\n",
    "            scan(item)\n",
    "scan(parsed)\n",
    "print(parsed)"
   ]
  }
 ],
 "metadata": {
  "kernelspec": {
   "display_name": "Python 3.10.5 64-bit (windows store)",
   "language": "python",
   "name": "python3"
  },
  "language_info": {
   "codemirror_mode": {
    "name": "ipython",
    "version": 3
   },
   "file_extension": ".py",
   "mimetype": "text/x-python",
   "name": "python",
   "nbconvert_exporter": "python",
   "pygments_lexer": "ipython3",
   "version": "3.10.5"
  },
  "orig_nbformat": 4,
  "vscode": {
   "interpreter": {
    "hash": "b8c2a756d04a03071b9a53212e370030a4c8960aefacbeed8a77ba4d7910b0b5"
   }
  }
 },
 "nbformat": 4,
 "nbformat_minor": 2
}
