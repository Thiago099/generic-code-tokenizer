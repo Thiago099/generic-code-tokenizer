{
 "cells": [
  {
   "cell_type": "code",
   "execution_count": 3,
   "metadata": {},
   "outputs": [
    {
     "name": "stdout",
     "output_type": "stream",
     "text": [
      "if a > 10 a = 10 "
     ]
    }
   ],
   "source": [
    "from code_tokenizer import *\n",
    "\n",
    "code = \"\"\"\n",
    "if(a > 10)\n",
    "{\n",
    "    a = 10\n",
    "}\n",
    "\"\"\"\n",
    "\n",
    "# print(color_by_char_type(code))\n",
    "parsed = parse(code)\n",
    "\n",
    "def parse_operation(value):\n",
    "    operation, subject = value[1]\n",
    "    parse_unknown(subject[0])\n",
    "    print(operation,end=' ')\n",
    "    parse_unknown(subject[1])\n",
    "\n",
    "def parse_instruction(value):\n",
    "    operation = value[1]\n",
    "    conditon, block = value[2]\n",
    "    print(operation, end=' ')\n",
    "    parse_unknown(conditon)\n",
    "    parse_unknown(block)\n",
    "\n",
    "def parse_assignment(assignment):\n",
    "    variable, value = assignment[1]\n",
    "    parse_unknown(variable)\n",
    "    print('=', end=' ')\n",
    "    parse_unknown(value)\n",
    "\n",
    "\n",
    "def parse_unknown(unknown):\n",
    "    if unknown[0] == 'instruction':\n",
    "        parse_instruction(unknown)\n",
    "    elif unknown[0] == 'operation':\n",
    "        parse_operation(unknown)\n",
    "    elif unknown[0] in ['number', 'word']:\n",
    "        print(unknown[1], end=' ')\n",
    "    elif unknown[0] == 'assign':\n",
    "        parse_assignment(unknown)\n",
    "\n",
    "parse_unknown(parsed)"
   ]
  }
 ],
 "metadata": {
  "kernelspec": {
   "display_name": "Python 3.10.5 64-bit (windows store)",
   "language": "python",
   "name": "python3"
  },
  "language_info": {
   "codemirror_mode": {
    "name": "ipython",
    "version": 3
   },
   "file_extension": ".py",
   "mimetype": "text/x-python",
   "name": "python",
   "nbconvert_exporter": "python",
   "pygments_lexer": "ipython3",
   "version": "3.10.5"
  },
  "orig_nbformat": 4,
  "vscode": {
   "interpreter": {
    "hash": "b8c2a756d04a03071b9a53212e370030a4c8960aefacbeed8a77ba4d7910b0b5"
   }
  }
 },
 "nbformat": 4,
 "nbformat_minor": 2
}
