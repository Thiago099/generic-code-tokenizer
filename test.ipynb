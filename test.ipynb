{
 "cells": [
  {
   "cell_type": "code",
   "execution_count": 33,
   "metadata": {},
   "outputs": [
    {
     "name": "stdout",
     "output_type": "stream",
     "text": [
      "\u001b[93m\n",
      "\u001b[0m\u001b[96mconst\u001b[0m\u001b[93m \u001b[0m\u001b[96mmy\u001b[0m\u001b[95m_\u001b[0m\u001b[96mlist\u001b[0m\u001b[93m \u001b[0m\u001b[95m=\u001b[0m\u001b[93m \u001b[0m\u001b[95m[\u001b[0m\u001b[94m1\u001b[0m\u001b[95m,\u001b[0m\u001b[93m \u001b[0m\u001b[94m2\u001b[0m\u001b[95m,\u001b[0m\u001b[93m \u001b[0m\u001b[94m3\u001b[0m\u001b[95m,\u001b[0m\u001b[93m \u001b[0m\u001b[94m4\u001b[0m\u001b[95m,\u001b[0m\u001b[93m \u001b[0m\u001b[94m5\u001b[0m\u001b[95m]\u001b[0m\u001b[93m\n",
      "\u001b[0m\u001b[96mlet\u001b[0m\u001b[93m \u001b[0m\u001b[96mmin\u001b[0m\u001b[93m \u001b[0m\u001b[95m=\u001b[0m\u001b[93m \u001b[0m\u001b[96mmy\u001b[0m\u001b[95m_\u001b[0m\u001b[96mlist\u001b[0m\u001b[95m[\u001b[0m\u001b[94m0\u001b[0m\u001b[95m]\u001b[0m\u001b[93m\n",
      "\u001b[0m\u001b[96mfor\u001b[0m\u001b[95m(\u001b[0m\u001b[96mi\u001b[0m\u001b[93m \u001b[0m\u001b[95m=\u001b[0m\u001b[93m \u001b[0m\u001b[94m1\u001b[0m\u001b[95m;\u001b[0m\u001b[93m \u001b[0m\u001b[96mi\u001b[0m\u001b[93m \u001b[0m\u001b[95m<\u001b[0m\u001b[93m \u001b[0m\u001b[96mmy\u001b[0m\u001b[95m_\u001b[0m\u001b[96mlist\u001b[0m\u001b[95m.\u001b[0m\u001b[96mlength\u001b[0m\u001b[95m;\u001b[0m\u001b[93m \u001b[0m\u001b[96mi\u001b[0m\u001b[95m++)\u001b[0m\u001b[93m \u001b[0m\u001b[95m{\u001b[0m\u001b[93m\n",
      "    \u001b[0m\u001b[96mif\u001b[0m\u001b[95m(\u001b[0m\u001b[96mmy\u001b[0m\u001b[95m_\u001b[0m\u001b[96mlist\u001b[0m\u001b[95m[\u001b[0m\u001b[96mi\u001b[0m\u001b[95m]\u001b[0m\u001b[93m \u001b[0m\u001b[95m<\u001b[0m\u001b[93m \u001b[0m\u001b[96mmin\u001b[0m\u001b[95m)\u001b[0m\u001b[93m \u001b[0m\u001b[95m{\u001b[0m\u001b[93m\n",
      "        \u001b[0m\u001b[96mmin\u001b[0m\u001b[93m \u001b[0m\u001b[95m=\u001b[0m\u001b[93m \u001b[0m\u001b[96mmy\u001b[0m\u001b[95m_\u001b[0m\u001b[96mlist\u001b[0m\u001b[95m[\u001b[0m\u001b[96mi\u001b[0m\u001b[95m]\u001b[0m\u001b[93m\n",
      "    \u001b[0m\u001b[95m}\u001b[0m\u001b[93m\n",
      "\u001b[0m\u001b[95m}\u001b[0m\u001b[93m\n",
      "\u001b[0m\u001b[96mconsole\u001b[0m\u001b[95m.\u001b[0m\u001b[96mlog\u001b[0m\u001b[95m(\u001b[0m\u001b[96mmin\u001b[0m\u001b[95m)\u001b[0m\u001b[93m\n",
      "\u001b[0m\n",
      "assignment\n",
      "[['word', 'my_list'], [['array_define', [['number', '1'], ['number', '2'], ['number', '3'], ['number', '4'], ['number', '5']]]]]\n",
      "\n",
      "assignment\n",
      "[['word', 'min'], [['word', 'my_list', ['array_call', ['number', '0']]]]]\n",
      "\n",
      "for\n",
      "[['assignment', [['word', 'i'], [['number', '1']]]]]\n",
      "[['word', 'i'], ['acess_group', [['word', 'my_list'], ['word', 'length']]], ['symbol', '<']]\n",
      "[['increment', ['word', 'i']]]\n",
      "\n",
      "if\n",
      "['word', 'my_list', ['array_call', ['word', 'i']]]\n",
      "['word', 'min']\n",
      "['symbol', '<']\n",
      "\n",
      "assignment\n",
      "[['word', 'min'], [['word', 'my_list', ['array_call', ['word', 'i']]]]]\n",
      "\n"
     ]
    }
   ],
   "source": [
    "from code_tokenizer import *\n",
    "\n",
    "# code = \"\"\"\n",
    "# posicao.Trigger == \"DEACTIVATION\" || posicao.Trigger == \"POWER_LOSS\"\n",
    "# \"\"\"\n",
    "\n",
    "code = \"\"\"\n",
    "const my_list = [1, 2, 3, 4, 5]\n",
    "let min = my_list[0]\n",
    "for(i = 1; i < my_list.length; i++) {\n",
    "    if(my_list[i] < min) {\n",
    "        min = my_list[i]\n",
    "    }\n",
    "}\n",
    "console.log(min)\n",
    "\"\"\"\n",
    "\n",
    "print(color_by_char_type(code))\n",
    "\n",
    "parsed = math_layer(code)\n",
    "\n",
    "def scan(value):\n",
    "    i = 0\n",
    "    while(i < len(value)):\n",
    "        if(type(value[i]) == list):\n",
    "            if(value[i][0] == 'word' and (value[i][1] in ['for','if','while'])):\n",
    "                command = value[i][1]\n",
    "                parameters = value[i][2][1]\n",
    "                block = value[i][3][1]\n",
    "\n",
    "                if(type(block[0]) != list):\n",
    "                    block = [block]\n",
    "\n",
    "                print(command)\n",
    "                \n",
    "                for j in parameters:\n",
    "                    print(j)\n",
    "\n",
    "                print()\n",
    "\n",
    "                scan(block)\n",
    "                \n",
    "                i += 1\n",
    "                continue\n",
    "            elif(value[i][0] == 'assignment'):\n",
    "                print('assignment')\n",
    "                print(value[i][1])\n",
    "                print()\n",
    "                i += 1\n",
    "                continue\n",
    "            scan(value[i])\n",
    "        i += 1\n",
    "scan(parsed)\n",
    "\n",
    "# print(parsed)"
   ]
  }
 ],
 "metadata": {
  "kernelspec": {
   "display_name": "Python 3.10.5 64-bit (windows store)",
   "language": "python",
   "name": "python3"
  },
  "language_info": {
   "codemirror_mode": {
    "name": "ipython",
    "version": 3
   },
   "file_extension": ".py",
   "mimetype": "text/x-python",
   "name": "python",
   "nbconvert_exporter": "python",
   "pygments_lexer": "ipython3",
   "version": "3.10.5"
  },
  "orig_nbformat": 4,
  "vscode": {
   "interpreter": {
    "hash": "e0d6f955f6b20eb780b1bed86b0701aab2a0d057c895afdcce576bc2196dcc6d"
   }
  }
 },
 "nbformat": 4,
 "nbformat_minor": 2
}
