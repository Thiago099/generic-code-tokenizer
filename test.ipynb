{
 "cells": [
  {
   "cell_type": "code",
   "execution_count": 6,
   "metadata": {},
   "outputs": [
    {
     "name": "stdout",
     "output_type": "stream",
     "text": [
      "word \t my_list\n",
      "symbol \t =\n",
      "symbol \t [\n",
      "number \t 1\n",
      "symbol \t ,\n",
      "number \t 2\n",
      "symbol \t ,\n",
      "number \t 3\n",
      "symbol \t ,\n",
      "number \t 4\n",
      "symbol \t ,\n",
      "number \t 5\n",
      "symbol \t ]\n",
      "word \t min\n",
      "symbol \t =\n",
      "word \t my_list\n",
      "symbol \t [\n",
      "number \t 0\n",
      "symbol \t ]\n",
      "word \t for\n",
      "word \t i\n",
      "word \t in\n",
      "word \t my_list\n",
      "symbol \t :\n",
      "word \t if\n",
      "word \t i\n",
      "symbol \t <\n",
      "word \t min\n",
      "symbol \t :\n",
      "word \t min\n",
      "symbol \t =\n",
      "word \t i\n",
      "word \t print\n",
      "symbol \t (\n",
      "word \t min\n",
      "symbol \t )\n"
     ]
    }
   ],
   "source": [
    "from text_parse import *\n",
    "\n",
    "code = \"\"\"\n",
    "my_list = [1, 2, 3, 4, 5]\n",
    "min = my_list[0]\n",
    "for i in my_list:\n",
    "    if i < min:\n",
    "        min = i\n",
    "print(min)\n",
    "\"\"\"\n",
    "        \n",
    "for [token, value] in tokenize(code):\n",
    "    print(token,'\\t', value)"
   ]
  }
 ],
 "metadata": {
  "kernelspec": {
   "display_name": "Python 3.10.2 64-bit",
   "language": "python",
   "name": "python3"
  },
  "language_info": {
   "codemirror_mode": {
    "name": "ipython",
    "version": 3
   },
   "file_extension": ".py",
   "mimetype": "text/x-python",
   "name": "python",
   "nbconvert_exporter": "python",
   "pygments_lexer": "ipython3",
   "version": "3.10.2"
  },
  "orig_nbformat": 4,
  "vscode": {
   "interpreter": {
    "hash": "4d581fef53bcc7b9121b723ffffee9bb3151d28f1d879cf512cef40db48bd410"
   }
  }
 },
 "nbformat": 4,
 "nbformat_minor": 2
}
