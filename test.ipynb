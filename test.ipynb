{
 "cells": [
  {
   "cell_type": "code",
   "execution_count": 1,
   "metadata": {},
   "outputs": [
    {
     "name": "stdout",
     "output_type": "stream",
     "text": [
      "\u001b[93m\n",
      "\u001b[0m\u001b[96mif\u001b[0m\u001b[93m \u001b[0m\u001b[95m(\u001b[0m\u001b[96mposicao\u001b[0m\u001b[95m.\u001b[0m\u001b[92mT\u001b[0m\u001b[96mrigger\u001b[0m\u001b[93m \u001b[0m\u001b[95m==\u001b[0m\u001b[93m \u001b[0m\u001b[95m\"\u001b[0m\u001b[92mDEACTIVATION\u001b[0m\u001b[95m\"\u001b[0m\u001b[93m \u001b[0m\u001b[95m||\u001b[0m\u001b[93m \u001b[0m\u001b[96mposicao\u001b[0m\u001b[95m.\u001b[0m\u001b[92mT\u001b[0m\u001b[96mrigger\u001b[0m\u001b[93m \u001b[0m\u001b[95m==\u001b[0m\u001b[93m \u001b[0m\u001b[95m\"\u001b[0m\u001b[92mPOWER\u001b[0m\u001b[95m_\u001b[0m\u001b[92mLOSS\u001b[0m\u001b[95m\")\u001b[0m\u001b[93m\n",
      "\u001b[0m\n",
      "word\n",
      "if\n",
      "['attached_group', [['word', 'Trigger'], ['word', 'posicao'], ['symbol', '.'], ['string', [['word', 'DEACTIVATION']]], ['symbol', '=='], ['word', 'Trigger'], ['symbol', '.'], ['string', [['word', 'POWER_LOSS']]], ['symbol', '=='], ['word', 'posicao'], ['symbol', '||']]]\n"
     ]
    }
   ],
   "source": [
    "from code_tokenizer import *\n",
    "\n",
    "code = \"\"\"\n",
    "if (posicao.Trigger == \"DEACTIVATION\" || posicao.Trigger == \"POWER_LOSS\")\n",
    "\"\"\"\n",
    "\n",
    "print(color_by_char_type(code))\n",
    "\n",
    "for i in math_layer(code):\n",
    "    print(i)"
   ]
  }
 ],
 "metadata": {
  "kernelspec": {
   "display_name": "Python 3.10.4 64-bit",
   "language": "python",
   "name": "python3"
  },
  "language_info": {
   "codemirror_mode": {
    "name": "ipython",
    "version": 3
   },
   "file_extension": ".py",
   "mimetype": "text/x-python",
   "name": "python",
   "nbconvert_exporter": "python",
   "pygments_lexer": "ipython3",
   "version": "3.10.4"
  },
  "orig_nbformat": 4,
  "vscode": {
   "interpreter": {
    "hash": "916dbcbb3f70747c44a77c7bcd40155683ae19c65e1c03b4aa3499c5328201f1"
   }
  }
 },
 "nbformat": 4,
 "nbformat_minor": 2
}
