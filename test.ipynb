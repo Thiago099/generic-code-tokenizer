{
 "cells": [
  {
   "cell_type": "code",
   "execution_count": 2,
   "metadata": {},
   "outputs": [
    {
     "name": "stdout",
     "output_type": "stream",
     "text": [
      "[['word', 'my_list'], ['symbol', '=>'], ['symbol', '['], ['number', '1'], ['symbol', ','], ['number', '2'], ['symbol', ','], ['number', '3'], ['symbol', ','], ['number', '4'], ['symbol', ','], ['number', '5'], ['symbol', ']'], ['word', 'min'], ['symbol', '='], ['word', 'my_list'], ['symbol', '['], ['number', '0'], ['symbol', ']'], ['word', 'for'], ['word', 'i'], ['word', 'in'], ['word', 'my_list'], ['symbol', ':'], ['word', 'if'], ['word', 'i'], ['symbol', '<'], ['word', 'min'], ['symbol', ':'], ['word', 'min'], ['symbol', '='], ['word', 'i'], ['word', 'print'], ['symbol', '('], ['word', 'min'], ['symbol', ')']]\n"
     ]
    }
   ],
   "source": [
    "from text_parse import *\n",
    "\n",
    "code = \"\"\"\n",
    "my_list = [1, 2, 3, 4, 5]\n",
    "min = my_list[0]\n",
    "for i in my_list:\n",
    "    if i < min:\n",
    "        min = i\n",
    "print(min)\n",
    "\"\"\"\n",
    "        \n",
    "print(tokenize(code))\n"
   ]
  }
 ],
 "metadata": {
  "kernelspec": {
   "display_name": "Python 3.10.2 64-bit",
   "language": "python",
   "name": "python3"
  },
  "language_info": {
   "codemirror_mode": {
    "name": "ipython",
    "version": 3
   },
   "file_extension": ".py",
   "mimetype": "text/x-python",
   "name": "python",
   "nbconvert_exporter": "python",
   "pygments_lexer": "ipython3",
   "version": "3.10.2"
  },
  "orig_nbformat": 4,
  "vscode": {
   "interpreter": {
    "hash": "4d581fef53bcc7b9121b723ffffee9bb3151d28f1d879cf512cef40db48bd410"
   }
  }
 },
 "nbformat": 4,
 "nbformat_minor": 2
}
