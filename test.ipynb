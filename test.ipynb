{
 "cells": [
  {
   "cell_type": "code",
   "execution_count": 2,
   "metadata": {},
   "outputs": [
    {
     "name": "stdout",
     "output_type": "stream",
     "text": [
      "if a > 10 b = 10 else b = a "
     ]
    }
   ],
   "source": [
    "from code_tokenizer import *\n",
    "\n",
    "code = \"\"\"\n",
    "if(a > 10)\n",
    "{\n",
    "    b = 10\n",
    "}\n",
    "else\n",
    "{\n",
    "    b = a\n",
    "}\n",
    "\"\"\"\n",
    "\n",
    "# print(color_by_char_type(code))\n",
    "parsed = parse(code)\n",
    "\n",
    "def parse_operation(value):\n",
    "    operation, subject = value[1]\n",
    "    parse_unknown(subject[0])\n",
    "    print(operation,end=' ')\n",
    "    parse_unknown(subject[1])\n",
    "\n",
    "def parse_instruction(value):\n",
    "    operation = value[1]\n",
    "    conditon, block = value[2]\n",
    "    print(operation, end=' ')\n",
    "    parse_unknown(conditon)\n",
    "    parse_unknown(block)\n",
    "\n",
    "def parse_assignment(assignment):\n",
    "    variable, value = assignment[1]\n",
    "    parse_unknown(variable)\n",
    "    print('=', end=' ')\n",
    "    parse_unknown(value)\n",
    "\n",
    "def parse_else(else_block):\n",
    "    print('else', end=' ')\n",
    "    parse_unknown(else_block[1])\n",
    "\n",
    "\n",
    "def parse_unknown(parsed):\n",
    "    if(not type(parsed[0]) == list):\n",
    "    parsed = [parsed]\n",
    "\n",
    "    for unknown in parsed:\n",
    "        if unknown[0] == 'instruction':\n",
    "            parse_instruction(unknown)\n",
    "        elif unknown[0] == 'operation':\n",
    "            parse_operation(unknown)\n",
    "        elif unknown[0] in ['number', 'word']:\n",
    "            print(unknown[1], end=' ')\n",
    "        elif unknown[0] == 'assign':\n",
    "            parse_assignment(unknown)\n",
    "        elif unknown[0] == 'else':\n",
    "            parse_else(unknown)\n",
    "\n",
    "\n",
    "    parse_unknown(item)"
   ]
  }
 ],
 "metadata": {
  "kernelspec": {
   "display_name": "Python 3.10.5 64-bit (windows store)",
   "language": "python",
   "name": "python3"
  },
  "language_info": {
   "codemirror_mode": {
    "name": "ipython",
    "version": 3
   },
   "file_extension": ".py",
   "mimetype": "text/x-python",
   "name": "python",
   "nbconvert_exporter": "python",
   "pygments_lexer": "ipython3",
   "version": "3.10.5"
  },
  "orig_nbformat": 4,
  "vscode": {
   "interpreter": {
    "hash": "131380195fafccd30ff0bc86cc585b2763f386cd5296bd3c2eff353ed7523022"
   }
  }
 },
 "nbformat": 4,
 "nbformat_minor": 2
}
