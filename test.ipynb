{
 "cells": [
  {
   "cell_type": "code",
   "execution_count": 2,
   "metadata": {},
   "outputs": [
    {
     "name": "stdout",
     "output_type": "stream",
     "text": [
      "\u001b[93m\n",
      "\u001b[0m\u001b[96mconst\u001b[0m\u001b[93m \u001b[0m\u001b[96mmy\u001b[0m\u001b[95m_\u001b[0m\u001b[96mlist\u001b[0m\u001b[93m \u001b[0m\u001b[95m=\u001b[0m\u001b[93m \u001b[0m\u001b[95m[\u001b[0m\u001b[94m1\u001b[0m\u001b[95m,\u001b[0m\u001b[93m \u001b[0m\u001b[94m2\u001b[0m\u001b[95m,\u001b[0m\u001b[93m \u001b[0m\u001b[94m3\u001b[0m\u001b[95m,\u001b[0m\u001b[93m \u001b[0m\u001b[94m4\u001b[0m\u001b[95m,\u001b[0m\u001b[93m \u001b[0m\u001b[94m5\u001b[0m\u001b[95m]\u001b[0m\u001b[93m\n",
      "\u001b[0m\u001b[96mlet\u001b[0m\u001b[93m \u001b[0m\u001b[96mmin\u001b[0m\u001b[93m \u001b[0m\u001b[95m=\u001b[0m\u001b[93m \u001b[0m\u001b[96mmy\u001b[0m\u001b[95m_\u001b[0m\u001b[96mlist\u001b[0m\u001b[95m[\u001b[0m\u001b[94m0\u001b[0m\u001b[95m]\u001b[0m\u001b[93m\n",
      "\u001b[0m\u001b[96mfor\u001b[0m\u001b[95m(\u001b[0m\u001b[96mi\u001b[0m\u001b[93m \u001b[0m\u001b[95m=\u001b[0m\u001b[93m \u001b[0m\u001b[94m1\u001b[0m\u001b[95m;\u001b[0m\u001b[93m \u001b[0m\u001b[96mi\u001b[0m\u001b[93m \u001b[0m\u001b[95m<\u001b[0m\u001b[93m \u001b[0m\u001b[96mmy\u001b[0m\u001b[95m_\u001b[0m\u001b[96mlist\u001b[0m\u001b[95m.\u001b[0m\u001b[96mlength\u001b[0m\u001b[95m;\u001b[0m\u001b[93m \u001b[0m\u001b[96mi\u001b[0m\u001b[95m++)\u001b[0m\u001b[93m \u001b[0m\u001b[95m{\u001b[0m\u001b[93m\n",
      "    \u001b[0m\u001b[96mif\u001b[0m\u001b[95m(\u001b[0m\u001b[96mmy\u001b[0m\u001b[95m_\u001b[0m\u001b[96mlist\u001b[0m\u001b[95m[\u001b[0m\u001b[96mi\u001b[0m\u001b[95m]\u001b[0m\u001b[93m \u001b[0m\u001b[95m<\u001b[0m\u001b[93m \u001b[0m\u001b[96mmin\u001b[0m\u001b[95m)\u001b[0m\u001b[93m \u001b[0m\u001b[95m{\u001b[0m\u001b[93m\n",
      "        \u001b[0m\u001b[96mmin\u001b[0m\u001b[93m \u001b[0m\u001b[95m=\u001b[0m\u001b[93m \u001b[0m\u001b[96mmy\u001b[0m\u001b[95m_\u001b[0m\u001b[96mlist\u001b[0m\u001b[95m[\u001b[0m\u001b[96mi\u001b[0m\u001b[95m]\u001b[0m\u001b[93m\n",
      "    \u001b[0m\u001b[95m}\u001b[0m\u001b[93m\n",
      "\u001b[0m\u001b[95m}\u001b[0m\u001b[93m\n",
      "\u001b[0m\u001b[96mconsole\u001b[0m\u001b[95m.\u001b[0m\u001b[96mlog\u001b[0m\u001b[95m(\u001b[0m\u001b[96mmin\u001b[0m\u001b[95m)\u001b[0m\u001b[93m\n",
      "\u001b[0m\n",
      "[['assignment', [['word', 'i'], [['number', '1']]]]]\n",
      "[['word', 'i'], ['acess_group', [['word', 'my_list'], ['word', 'length']]], ['symbol', '<']]\n",
      "[['increment', ['word', 'i']]]\n",
      "['word', 'if', ['attached_group', [['word', 'my_list', ['array_call', ['word', 'i']]], ['word', 'min'], ['symbol', '<']]], ['attached_block', [['assignment', [['word', 'min'], [['word', 'my_list', ['array_call', ['word', 'i']]]]]]]]]\n"
     ]
    }
   ],
   "source": [
    "from code_tokenizer import *\n",
    "\n",
    "# code = \"\"\"\n",
    "# posicao.Trigger == \"DEACTIVATION\" || posicao.Trigger == \"POWER_LOSS\"\n",
    "# \"\"\"\n",
    "\n",
    "code = \"\"\"\n",
    "const my_list = [1, 2, 3, 4, 5]\n",
    "let min = my_list[0]\n",
    "for(i = 1; i < my_list.length; i++) {\n",
    "    if(my_list[i] < min) {\n",
    "        min = my_list[i]\n",
    "    }\n",
    "}\n",
    "console.log(min)\n",
    "\"\"\"\n",
    "\n",
    "print(color_by_char_type(code))\n",
    "\n",
    "parsed = math_layer(code)\n",
    "\n",
    "for i in parsed:\n",
    "    if(i[0] == 'word' and i[1] == 'for'):\n",
    "        parameters = i[2][1]\n",
    "        block = i[3][1]\n",
    "        if(not block is list):\n",
    "            block = [block]\n",
    "        \n",
    "        for j in parameters:\n",
    "            print(j)\n",
    "        for j in block:\n",
    "            print(j)"
   ]
  }
 ],
 "metadata": {
  "kernelspec": {
   "display_name": "Python 3.10.5 64-bit (windows store)",
   "language": "python",
   "name": "python3"
  },
  "language_info": {
   "codemirror_mode": {
    "name": "ipython",
    "version": 3
   },
   "file_extension": ".py",
   "mimetype": "text/x-python",
   "name": "python",
   "nbconvert_exporter": "python",
   "pygments_lexer": "ipython3",
   "version": "3.10.5"
  },
  "orig_nbformat": 4,
  "vscode": {
   "interpreter": {
    "hash": "e0d6f955f6b20eb780b1bed86b0701aab2a0d057c895afdcce576bc2196dcc6d"
   }
  }
 },
 "nbformat": 4,
 "nbformat_minor": 2
}
