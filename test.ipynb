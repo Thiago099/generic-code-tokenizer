{
 "cells": [
  {
   "cell_type": "code",
   "execution_count": 1,
   "metadata": {},
   "outputs": [
    {
     "name": "stdout",
     "output_type": "stream",
     "text": [
      "\u001b[93m\n",
      "\u001b[0m\u001b[96ma\u001b[0m\u001b[93m \u001b[0m\u001b[95m=\u001b[0m\u001b[93m \u001b[0m\u001b[94m1\u001b[0m\u001b[93m\n",
      "\u001b[0m\u001b[96mif\u001b[0m\u001b[95m(\u001b[0m\u001b[96ma\u001b[0m\u001b[93m \u001b[0m\u001b[95m<\u001b[0m\u001b[93m \u001b[0m\u001b[94m0\u001b[0m\u001b[95m)\u001b[0m\u001b[93m\n",
      "\u001b[0m\u001b[95m{\u001b[0m\u001b[93m\n",
      "    \u001b[0m\u001b[96ma\u001b[0m\u001b[93m \u001b[0m\u001b[95m=\u001b[0m\u001b[93m \u001b[0m\u001b[94m0\u001b[0m\u001b[93m\n",
      "\u001b[0m\u001b[95m}\u001b[0m\u001b[93m\n",
      "\u001b[0m\n",
      "['a', ['number', '1']]\n",
      "\n",
      "['assign', ['a', ['number', '1']]]\n",
      "['if', ['operation', '<', [['word', 'a'], ['number', '0']]], [['assign', ['a', ['number', '0']]]]]\n"
     ]
    }
   ],
   "source": [
    "from code_tokenizer import *\n",
    "\n",
    "code = \"\"\"\n",
    "a = 1\n",
    "if(a < 0)\n",
    "{\n",
    "    a = 0\n",
    "}\n",
    "\"\"\"\n",
    "print(color_by_char_type(code))\n",
    "parsed = parse(code)\n",
    "def read(parsed):\n",
    "    meaning = []\n",
    "    if(type(parsed[0]) != list):\n",
    "        parsed = [parsed]\n",
    "    for item in parsed:\n",
    "        if(item[0] == 'assign'):\n",
    "            print(item[1])\n",
    "read(parsed)\n",
    "print()\n",
    "for item in parsed:\n",
    "    print(item)"
   ]
  }
 ],
 "metadata": {
  "kernelspec": {
   "display_name": "Python 3.10.5 64-bit (windows store)",
   "language": "python",
   "name": "python3"
  },
  "language_info": {
   "codemirror_mode": {
    "name": "ipython",
    "version": 3
   },
   "file_extension": ".py",
   "mimetype": "text/x-python",
   "name": "python",
   "nbconvert_exporter": "python",
   "pygments_lexer": "ipython3",
   "version": "3.10.5"
  },
  "orig_nbformat": 4,
  "vscode": {
   "interpreter": {
    "hash": "b8c2a756d04a03071b9a53212e370030a4c8960aefacbeed8a77ba4d7910b0b5"
   }
  }
 },
 "nbformat": 4,
 "nbformat_minor": 2
}
