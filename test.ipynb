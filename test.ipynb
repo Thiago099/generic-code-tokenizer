{
 "cells": [
  {
   "cell_type": "code",
   "execution_count": 14,
   "metadata": {},
   "outputs": [
    {
     "name": "stdout",
     "output_type": "stream",
     "text": [
      "\u001b[93m\n",
      "\u001b[0m\u001b[96ma\u001b[0m\u001b[93m \u001b[0m\u001b[95m=\u001b[0m\u001b[93m \u001b[0m\u001b[94m10\u001b[0m\u001b[93m \u001b[0m\u001b[95m+\u001b[0m\u001b[93m \u001b[0m\u001b[94m2\u001b[0m\u001b[93m \u001b[0m\u001b[95m*\u001b[0m\u001b[93m \u001b[0m\u001b[94m5\u001b[0m\u001b[93m\n",
      "\u001b[0m\n",
      "['5', '2', '*', '10', '+', 'a', '=']\n"
     ]
    }
   ],
   "source": [
    "from code_tokenizer import *\n",
    "\n",
    "code = \"\"\"\n",
    "my_list = [1, 2, 3, 4, 5]\n",
    "min = my_list[0]\n",
    "for(i = 1; i < my_list.length; i++) {\n",
    "    if(my_list[i] < min) {\n",
    "        min = my_list[i]\n",
    "    }\n",
    "}\n",
    "console.log(min)\n",
    "\"\"\"\n",
    "\n",
    "code = \"\"\"\n",
    "a = 10 + 2 * 5\n",
    "\"\"\"\n",
    "print(color_by_char_type(code))\n",
    "\n",
    "\n",
    "\n",
    "def math_layer(code):\n",
    "    code = parase_groups(code)\n",
    "    priority = {\n",
    "        '+': 1,\n",
    "        '-': 1,\n",
    "        '*': 2,\n",
    "        '/': 2,\n",
    "    }\n",
    "    operations = []\n",
    "    variables = []\n",
    "    result = []\n",
    "    # create a binary tree from the operations using the priority\n",
    "    for token, value in code:\n",
    "        if(token == 'symbol'):\n",
    "            if(value in priority.keys()):\n",
    "                current_priority = priority[value]\n",
    "            else:\n",
    "                current_priority = 0\n",
    "            while(len(operations) > 0 and current_priority <= operations[-1][0]):\n",
    "                if(len(variables) > 0 and len(result) == 0):\n",
    "                    result.append(variables.pop())\n",
    "                if(len(variables) > 0):\n",
    "                    result.append(variables.pop())\n",
    "                if(len(operations) > 0):\n",
    "                    result.append(operations.pop()[1])\n",
    "            operations.append([current_priority,value])\n",
    "        elif(token in ['word','number']):\n",
    "            variables.append(value)\n",
    "    busy = True\n",
    "    while(busy):\n",
    "        busy = False\n",
    "        if(len(variables) > 0 and len(result) == 0):\n",
    "            result.append(variables.pop())\n",
    "            busy = True\n",
    "        if(len(variables) > 0):\n",
    "            result.append(variables.pop())\n",
    "            busy = True\n",
    "        if(len(operations) > 0):\n",
    "            result.append(operations.pop()[1])\n",
    "            busy = True\n",
    "            \n",
    "    return result\n",
    "\n",
    "print (math_layer(code))"
   ]
  }
 ],
 "metadata": {
  "kernelspec": {
   "display_name": "Python 3.10.2 64-bit",
   "language": "python",
   "name": "python3"
  },
  "language_info": {
   "codemirror_mode": {
    "name": "ipython",
    "version": 3
   },
   "file_extension": ".py",
   "mimetype": "text/x-python",
   "name": "python",
   "nbconvert_exporter": "python",
   "pygments_lexer": "ipython3",
   "version": "3.10.2"
  },
  "orig_nbformat": 4,
  "vscode": {
   "interpreter": {
    "hash": "4d581fef53bcc7b9121b723ffffee9bb3151d28f1d879cf512cef40db48bd410"
   }
  }
 },
 "nbformat": 4,
 "nbformat_minor": 2
}
