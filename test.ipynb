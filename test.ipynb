{
 "cells": [
  {
   "cell_type": "code",
   "execution_count": 4,
   "metadata": {},
   "outputs": [
    {
     "name": "stdout",
     "output_type": "stream",
     "text": [
      "\u001b[93m\n",
      "\u001b[0m\u001b[96mconsole\u001b[0m\u001b[95m.\u001b[0m\u001b[96mlog\u001b[0m\u001b[95m(\u001b[0m\u001b[96ma\u001b[0m\u001b[95m)\u001b[0m\u001b[93m\n",
      "\u001b[0m\n",
      "['access_group', [['word', 'console'], ['word', 'log', ['attached_group', ['word', 'a']]]]]\n"
     ]
    }
   ],
   "source": [
    "from code_tokenizer import *\n",
    "\n",
    "code = \"\"\"\n",
    "a = 1\n",
    "if(a == 1)\n",
    "{\n",
    "    a = 2\n",
    "}\n",
    "\"\"\"\n",
    "\n",
    "print(color_by_char_type(code))\n",
    "\n",
    "for item in parse(code):\n",
    "    print(item)"
   ]
  }
 ],
 "metadata": {
  "kernelspec": {
   "display_name": "Python 3.10.5 64-bit (windows store)",
   "language": "python",
   "name": "python3"
  },
  "language_info": {
   "codemirror_mode": {
    "name": "ipython",
    "version": 3
   },
   "file_extension": ".py",
   "mimetype": "text/x-python",
   "name": "python",
   "nbconvert_exporter": "python",
   "pygments_lexer": "ipython3",
   "version": "3.10.5"
  },
  "orig_nbformat": 4,
  "vscode": {
   "interpreter": {
    "hash": "b8c2a756d04a03071b9a53212e370030a4c8960aefacbeed8a77ba4d7910b0b5"
   }
  }
 },
 "nbformat": 4,
 "nbformat_minor": 2
}
