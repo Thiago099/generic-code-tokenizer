{
 "cells": [
  {
   "cell_type": "code",
   "execution_count": 8,
   "metadata": {},
   "outputs": [
    {
     "name": "stdout",
     "output_type": "stream",
     "text": [
      "\u001b[93m\n",
      "\u001b[0m\u001b[96ma\u001b[0m\u001b[93m \u001b[0m\u001b[95m=\u001b[0m\u001b[93m \u001b[0m\u001b[94m1\u001b[0m\u001b[93m\n",
      "\u001b[0m\u001b[96mif\u001b[0m\u001b[95m(\u001b[0m\u001b[96ma\u001b[0m\u001b[93m \u001b[0m\u001b[95m==\u001b[0m\u001b[93m \u001b[0m\u001b[94m1\u001b[0m\u001b[95m)\u001b[0m\u001b[93m \u001b[0m\u001b[95m{\u001b[0m\u001b[93m\n",
      "    \u001b[0m\u001b[96ma\u001b[0m\u001b[93m \u001b[0m\u001b[95m=\u001b[0m\u001b[93m \u001b[0m\u001b[94m2\u001b[0m\u001b[93m\n",
      "\u001b[0m\u001b[95m}\u001b[0m\u001b[93m\n",
      "\u001b[0m\n",
      "['assign', [['word', 'a'], ['number', '1']]]\n",
      "['word', 'if', ['attached_group', ['operation', '==', [['word', 'a'], ['number', '1']]]], ['attached_block', ['assign', [['word', 'a'], ['number', '2']]]]]\n"
     ]
    }
   ],
   "source": [
    "from code_tokenizer import *\n",
    "\n",
    "# code = \"\"\"\n",
    "# posicao.Trigger == \"DEACTIVATION\" || posicao.Trigger == \"POWER_LOSS\"\n",
    "# \"\"\"\n",
    "\n",
    "code = \"\"\"\n",
    "my_list = [1, 2, 3, 4, 5]\n",
    "min = my_list[0]\n",
    "for(i = 1;i < my_list.length; i++) {\n",
    "    if(my_list[i] < min) {\n",
    "        min = my_list[i]\n",
    "    }\n",
    "}\n",
    "console.log(min)\n",
    "\"\"\"\n",
    "\n",
    "print(color_by_char_type(code))\n",
    "\n",
    "parsed = math_layer(code)\n",
    "\n",
    "def scan(data):\n",
    "    if(type(data) == list and len(data) > 0):\n",
    "        for item in data:\n",
    "            scan(item)\n",
    "scan(parsed)\n",
    "print(parsed)"
   ]
  }
 ],
 "metadata": {
  "kernelspec": {
   "display_name": "Python 3.10.5 64-bit (windows store)",
   "language": "python",
   "name": "python3"
  },
  "language_info": {
   "codemirror_mode": {
    "name": "ipython",
    "version": 3
   },
   "file_extension": ".py",
   "mimetype": "text/x-python",
   "name": "python",
   "nbconvert_exporter": "python",
   "pygments_lexer": "ipython3",
   "version": "3.10.5"
  },
  "orig_nbformat": 4,
  "vscode": {
   "interpreter": {
    "hash": "b8c2a756d04a03071b9a53212e370030a4c8960aefacbeed8a77ba4d7910b0b5"
   }
  }
 },
 "nbformat": 4,
 "nbformat_minor": 2
}
