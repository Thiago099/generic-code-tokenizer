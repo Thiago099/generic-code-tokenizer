{
 "cells": [
  {
   "cell_type": "code",
   "execution_count": 2,
   "metadata": {},
   "outputs": [
    {
     "name": "stdout",
     "output_type": "stream",
     "text": [
      "\u001b[93m  \n",
      "\u001b[0m\u001b[96mif\u001b[0m\u001b[95m(\u001b[0m\u001b[96ma\u001b[0m\u001b[93m \u001b[0m\u001b[95m>\u001b[0m\u001b[93m \u001b[0m\u001b[94m10\u001b[0m\u001b[95m)\u001b[0m\u001b[93m\n",
      "\u001b[0m\u001b[95m{\u001b[0m\u001b[93m\n",
      "    \u001b[0m\u001b[96ma\u001b[0m\u001b[93m \u001b[0m\u001b[95m=\u001b[0m\u001b[93m \u001b[0m\u001b[94m10\u001b[0m\u001b[93m\n",
      "\u001b[0m\u001b[95m}\u001b[0m\u001b[93m\n",
      "\u001b[0m\n",
      "['if', [['operation', '>', [['word', 'a'], ['number', '10']]], ['operation', '=', [['word', 'a'], ['number', '10']]]]]\n"
     ]
    }
   ],
   "source": [
    "from code_tokenizer import *\n",
    "\n",
    "code = \"\"\"  \n",
    "if(a > 10)\n",
    "{\n",
    "    a = 10\n",
    "}\n",
    "\"\"\"\n",
    "\n",
    "print(color_by_char_type(code))\n",
    "parsed = parse(code)\n",
    "print(parsed)"
   ]
  }
 ],
 "metadata": {
  "kernelspec": {
   "display_name": "Python 3.10.5 64-bit (windows store)",
   "language": "python",
   "name": "python3"
  },
  "language_info": {
   "codemirror_mode": {
    "name": "ipython",
    "version": 3
   },
   "file_extension": ".py",
   "mimetype": "text/x-python",
   "name": "python",
   "nbconvert_exporter": "python",
   "pygments_lexer": "ipython3",
   "version": "3.10.5"
  },
  "orig_nbformat": 4,
  "vscode": {
   "interpreter": {
    "hash": "b8c2a756d04a03071b9a53212e370030a4c8960aefacbeed8a77ba4d7910b0b5"
   }
  }
 },
 "nbformat": 4,
 "nbformat_minor": 2
}
