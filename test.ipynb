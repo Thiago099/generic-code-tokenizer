{
 "cells": [
  {
   "cell_type": "code",
   "execution_count": 2,
   "metadata": {},
   "outputs": [
    {
     "name": "stdout",
     "output_type": "stream",
     "text": [
      "[['access_group', [['word', 'a'], ['word', 'a']]], ['word', 'if', ['attached_group', ['operation', '==', [['word', 'a'], ['number', '0']]]], ['attached_block', ['assign', [['word', 'a'], ['number', '1']]]]]]\n"
     ]
    }
   ],
   "source": [
    "from code_tokenizer import *\n",
    "\n",
    "# code = \"\"\"\n",
    "# posicao.Trigger == \"DEACTIVATION\" || posicao.Trigger == \"POWER_LOSS\"\n",
    "# \"\"\"\n",
    "\n",
    "code = \"\"\"\n",
    "a.a\n",
    "if( a == 0) {\n",
    "    a = 1\n",
    "}\n",
    "\"\"\"\n",
    "\n",
    "# print(color_by_char_type(code))\n",
    "\n",
    "# parsed = math_layer(code)\n",
    "\n",
    "# def parse(code):\n",
    "#     for item in code:\n",
    "#         if type(item) == list and len(item) > 0:\n",
    "#             if(item[0] == 'assign'):\n",
    "#                 print(item[1])\n",
    "\n",
    "# parse(parsed)\n",
    "print(math_layer(code))"
   ]
  }
 ],
 "metadata": {
  "kernelspec": {
   "display_name": "Python 3.10.5 64-bit (windows store)",
   "language": "python",
   "name": "python3"
  },
  "language_info": {
   "codemirror_mode": {
    "name": "ipython",
    "version": 3
   },
   "file_extension": ".py",
   "mimetype": "text/x-python",
   "name": "python",
   "nbconvert_exporter": "python",
   "pygments_lexer": "ipython3",
   "version": "3.10.5"
  },
  "orig_nbformat": 4,
  "vscode": {
   "interpreter": {
    "hash": "b8c2a756d04a03071b9a53212e370030a4c8960aefacbeed8a77ba4d7910b0b5"
   }
  }
 },
 "nbformat": 4,
 "nbformat_minor": 2
}
